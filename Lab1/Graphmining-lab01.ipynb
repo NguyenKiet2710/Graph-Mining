{
 "cells": [
  {
   "cell_type": "markdown",
   "id": "d9b61316",
   "metadata": {},
   "source": [
    "# Khai phá đồ thị IUH - 2023\n",
    "\n",
    "### Lab 01. Ngày 09/01/2024. Cài đặt graph cơ bản - Thư viện NetworkX."
   ]
  },
  {
   "cell_type": "markdown",
   "id": "3fa1d36f",
   "metadata": {},
   "source": [
    "### 1) Cài đặt graph cơ bản."
   ]
  },
  {
   "cell_type": "code",
   "execution_count": null,
   "id": "33065274",
   "metadata": {},
   "outputs": [],
   "source": [
    "#Cho graph vô hướng sau đây với thông tin danh sách cạnh kề\n",
    "graph = {\n",
    "  '1' : ['3', '5'],\n",
    "  '2' : ['3'],\n",
    "  '3' : ['1', '2', '4', '5'],\n",
    "  '4' : ['3', '7'],\n",
    "  '5' : ['1', '3', '6'],\n",
    "  '6' : ['5', '7'],\n",
    "  '7' : ['4', '6']\n",
    "}"
   ]
  },
  {
   "cell_type": "markdown",
   "id": "217f1acc",
   "metadata": {},
   "source": [
    "Hãy viết code thực hiện các yêu cầu sau đây:\n",
    "1) Tính số đỉnh của graph, cho biết bậc của đỉnh '1'."
   ]
  },
  {
   "cell_type": "code",
   "execution_count": null,
   "id": "41460110",
   "metadata": {},
   "outputs": [],
   "source": []
  },
  {
   "cell_type": "markdown",
   "id": "e2d63ebf",
   "metadata": {},
   "source": [
    "2) Hãy in ra ma trận đỉnh kề của graph trên."
   ]
  },
  {
   "cell_type": "code",
   "execution_count": null,
   "id": "7bf5e7ca",
   "metadata": {},
   "outputs": [],
   "source": []
  },
  {
   "cell_type": "markdown",
   "id": "36f4f577",
   "metadata": {},
   "source": [
    "3) Tìm tổng số cạnh và đỉnh có bậc lớn nhất."
   ]
  },
  {
   "cell_type": "code",
   "execution_count": null,
   "id": "671959e2",
   "metadata": {},
   "outputs": [],
   "source": []
  },
  {
   "cell_type": "markdown",
   "id": "a692b7b5",
   "metadata": {},
   "source": [
    "4) Tham khảo thuật toán DFS bên dưới, hãy thực hiện thăm graph từ đỉnh nào đó."
   ]
  },
  {
   "cell_type": "code",
   "execution_count": null,
   "id": "81a040bc",
   "metadata": {},
   "outputs": [],
   "source": [
    "visited = set()\n",
    "def dfs(node):\n",
    "    if node not in visited:\n",
    "        #print(node, end = ' ')\n",
    "        visited.add(node)\n",
    "        for neighbour in graph[node]:\n",
    "            if neighbour not in visited:\n",
    "                dfs(neighbour)\n",
    "#print(\"Thứ tự thực hiện DFS:\")"
   ]
  },
  {
   "cell_type": "markdown",
   "id": "bec4cd19",
   "metadata": {},
   "source": [
    "5) Kiểm tra xem graph có đường đi Euler hay không, dựa theo các tính chất đã biết."
   ]
  },
  {
   "cell_type": "code",
   "execution_count": null,
   "id": "cbad4ed6",
   "metadata": {},
   "outputs": [],
   "source": []
  },
  {
   "cell_type": "markdown",
   "id": "70a65d40",
   "metadata": {},
   "source": [
    "6) Hãy bổ sung thêm 3 đỉnh có lable là '8', '9', '10' đôi một nối nhau vào graph trên."
   ]
  },
  {
   "cell_type": "code",
   "execution_count": null,
   "id": "3096d174",
   "metadata": {},
   "outputs": [],
   "source": []
  },
  {
   "cell_type": "markdown",
   "id": "b52cdd14",
   "metadata": {},
   "source": [
    "7) Hoàn chỉnh đoạn code sau đây để đếm số thành phần liên thông"
   ]
  },
  {
   "cell_type": "code",
   "execution_count": null,
   "id": "c130d05c",
   "metadata": {},
   "outputs": [],
   "source": [
    "count = 0\n",
    "for u in graph:\n",
    "    if u not in visited:\n",
    "        #CODE HERE\n",
    "print(count)"
   ]
  },
  {
   "cell_type": "markdown",
   "id": "9317c6fc",
   "metadata": {},
   "source": [
    "8) Kiểm tra xem graph đã cho có regular (đồng bậc) không?"
   ]
  },
  {
   "cell_type": "code",
   "execution_count": null,
   "id": "a99db434",
   "metadata": {},
   "outputs": [],
   "source": []
  },
  {
   "cell_type": "markdown",
   "id": "a75a0171",
   "metadata": {},
   "source": [
    "### 2) Thư viện networkx"
   ]
  },
  {
   "cell_type": "markdown",
   "id": "e98e122c",
   "metadata": {},
   "source": [
    "Document: https://networkx.org/documentation/stable/reference/algorithms/index.html"
   ]
  },
  {
   "cell_type": "code",
   "execution_count": 1,
   "id": "b8e338e2",
   "metadata": {},
   "outputs": [],
   "source": [
    "import networkx as nx"
   ]
  },
  {
   "cell_type": "code",
   "execution_count": null,
   "id": "1152a725",
   "metadata": {},
   "outputs": [],
   "source": [
    "#hãy thực hiện chạy thử đoạn code sau và xem kết quả\n",
    "G = nx.Graph(graph)\n",
    "nx.draw(G, with_labels = True)"
   ]
  },
  {
   "cell_type": "markdown",
   "id": "91dd6512",
   "metadata": {},
   "source": [
    "> Tìm hiểu và áp dụng các thư viện networkX vào để giải lại tất cả các bài tập ở mục 1)."
   ]
  },
  {
   "cell_type": "code",
   "execution_count": null,
   "id": "eea6b52b",
   "metadata": {},
   "outputs": [],
   "source": []
  },
  {
   "cell_type": "markdown",
   "id": "43be2ca5",
   "metadata": {},
   "source": [
    "Cuối cùng, ta xem xét cách tạo graph với node có các đỉnh là các string và vẽ graph"
   ]
  },
  {
   "cell_type": "code",
   "execution_count": 2,
   "id": "6e23cfa1",
   "metadata": {},
   "outputs": [],
   "source": [
    "#reset lại graph đã nêu\n",
    "G = nx.Graph()"
   ]
  },
  {
   "cell_type": "code",
   "execution_count": 3,
   "id": "34a61bde",
   "metadata": {},
   "outputs": [
    {
     "name": "stdout",
     "output_type": "stream",
     "text": [
      "['Phu', 'Tai', 'Nam', 'Hien', 'Tuan', 'Phuc']\n",
      "169\n"
     ]
    }
   ],
   "source": [
    "G.add_node(\"Phu\")\n",
    "G.add_nodes_from([\"Tai\", \"Nam\", \"Hien\", \"Tuan\"])\n",
    "G.add_nodes_from([(\"Hien\", {\"cao\": 169}), (\"Phuc\", {\"cao\": 160})])\n",
    "\n",
    "print(G.nodes)\n",
    "print(G.nodes[\"Hien\"][\"cao\"])"
   ]
  },
  {
   "cell_type": "code",
   "execution_count": 4,
   "id": "8b0384e6",
   "metadata": {},
   "outputs": [
    {
     "data": {
      "image/png": "[encoded data removed]",
      "text/plain": [
       "<Figure size 432x288 with 1 Axes>"
      ]
     },
     "metadata": {},
     "output_type": "display_data"
    }
   ],
   "source": [
    "G.add_edge(\"Hien\", \"Phuc\", weight = 3)\n",
    "G.add_edge(\"Tai\", \"Nam\", weight = 3)\n",
    "G.add_edges_from([(\"Phu\", \"Nam\"),(\"Tuan\", \"Tai\")])\n",
    "G.add_edges_from([(\"Nam\", \"Tuan\"),(\"Tai\", \"Hien\")])\n",
    "nx.draw(G, with_labels = True)\n",
    "## Nếu code vẽ graph không chạy được thì run: pip install decorator==5.0.9 và restart lại máy"
   ]
  },
  {
   "cell_type": "code",
   "execution_count": 5,
   "id": "14c99b3c",
   "metadata": {},
   "outputs": [
    {
     "data": {
      "text/plain": [
       "{('Tai', 'Nam'): Text(-0.08237288010672524, -0.19855836645239336, '3'),\n",
       " ('Hien', 'Phuc'): Text(0.37124533944731497, 0.785150444151705, '3')}"
      ]
     },
     "execution_count": 5,
     "metadata": {},
     "output_type": "execute_result"
    },
    {
     "data": {
      "image/png": "[encoded data removed]",
      "text/plain": [
       "<Figure size 432x288 with 1 Axes>"
      ]
     },
     "metadata": {},
     "output_type": "display_data"
    }
   ],
   "source": [
    "#import matplotlib.pyplot as plt\n",
    "pos = nx.spring_layout(G) \n",
    "nx.draw_networkx(G,pos)\n",
    "labels = nx.get_edge_attributes(G,'weight')\n",
    "nx.draw_networkx_edge_labels(G,pos,edge_labels=labels)\n",
    "\n",
    "#SV thử tự tìm thêm một số cách vẽ attritube của cạnh / đỉnh"
   ]
  }
 ],
 "metadata": {
  "kernelspec": {
   "display_name": "Python 3",
   "language": "python",
   "name": "python3"
  },
  "language_info": {
   "codemirror_mode": {
    "name": "ipython",
    "version": 3
   },
   "file_extension": ".py",
   "mimetype": "text/x-python",
   "name": "python",
   "nbconvert_exporter": "python",
   "pygments_lexer": "ipython3",
   "version": "3.8.8"
  }
 },
 "nbformat": 4,
 "nbformat_minor": 5
}
